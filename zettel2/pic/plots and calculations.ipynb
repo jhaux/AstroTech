{
 "cells": [
  {
   "cell_type": "code",
   "execution_count": 2,
   "metadata": {
    "collapsed": false
   },
   "outputs": [
    {
     "name": "stderr",
     "output_type": "stream",
     "text": [
      "/home/jhaux/.local/lib/python2.7/site-packages/matplotlib/__init__.py:872: UserWarning: axes.color_cycle is deprecated and replaced with axes.prop_cycle; please use the latter.\n",
      "  warnings.warn(self.msg_depr % (key, alt_key))\n"
     ]
    }
   ],
   "source": [
    "import numpy as np\n",
    "import matplotlib.pyplot as plt\n",
    "import matplotlib.patches as mpatches\n",
    "import mplstyles\n",
    "%matplotlib inline"
   ]
  },
  {
   "cell_type": "markdown",
   "metadata": {},
   "source": [
    "## 2-B"
   ]
  },
  {
   "cell_type": "code",
   "execution_count": 23,
   "metadata": {
    "collapsed": false,
    "scrolled": true
   },
   "outputs": [
    {
     "name": "stdout",
     "output_type": "stream",
     "text": [
      "m0U = UmV0 + m0V\n",
      "2.29664917505 = -1.42 + 3.71664917505\n",
      "-60.0:\t-0.894788274381\t1.58696759966\n",
      "0.0:\t-1.06084740158\t1.33855255514\n",
      "45.0:\t-0.979207644413\t1.45015207765\n"
     ]
    }
   ],
   "source": [
    "def deg2rad(deg):\n",
    "    return deg * np.pi / 180\n",
    "\n",
    "def h2deg(h):\n",
    "    return h*15.\n",
    "\n",
    "def h2rad(h):\n",
    "    return deg2rad(h2deg(h))\n",
    "\n",
    "def X(HA, Phi=31.0442, DEC=43+62/60+25./3600.):\n",
    "    return 1./ (np.cos(deg2rad(Phi))*np.cos(deg2rad(DEC))*np.cos(deg2rad(HA)) + np.sin(deg2rad(Phi))*np.sin(deg2rad(DEC)))\n",
    "\n",
    "\n",
    "MV = -5.21\n",
    "m0V = 5*np.log10(610) - 5 + MV\n",
    "UmV0 = -1.42\n",
    "m0U = UmV0 + m0V\n",
    "\n",
    "print 'm0U = UmV0 + m0V\\n{0} = {1} + {2}'.format(m0U, UmV0, m0V)\n",
    "\n",
    "def UmVobs(HA, m0V, m0U, kV=0.18, kU=0.53):\n",
    "    return m0U+kU*X(HA) - (m0V+kV*X(HA))\n",
    "\n",
    "HAs = h2deg(np.array([-4, 0, 3]))\n",
    "for HA in HAs:\n",
    "    umv = UmVobs(HA, m0V, m0U)\n",
    "    uu = UmV0 / umv\n",
    "    print '{0}:\\t{1}\\t{2}'.format(HA, umv, uu)"
   ]
  },
  {
   "cell_type": "code",
   "execution_count": 4,
   "metadata": {
    "collapsed": true
   },
   "outputs": [],
   "source": [
    "def plotX(ax, H, start=2, toa=3, c='k'):\n",
    "    H_d = h2deg(H)\n",
    "    if H < 0:\n",
    "        H_d += 0\n",
    "        wedge = mpatches.Wedge((0,0), start,  360+90, 360+90-H_d, color=c,fill=False)\n",
    "    else:\n",
    "        H_d += 0\n",
    "        wedge = mpatches.Wedge((0,0), start, H_d, 360+90, color=c,fill=False)\n",
    "    H_r = h2rad(H)\n",
    "    ax.arrow(0,0,toa*np.tan(H_r),toa, head_width=0., head_length=0., fc='k', ec=c)\n",
    "    ax.add_artist(wedge)"
   ]
  },
  {
   "cell_type": "code",
   "execution_count": 22,
   "metadata": {
    "collapsed": false
   },
   "outputs": [
    {
     "data": {
      "image/png": "[encoded data removed]",
      "text/plain": [
       "<matplotlib.figure.Figure at 0x7f1a581926d0>"
      ]
     },
     "metadata": {},
     "output_type": "display_data"
    }
   ],
   "source": [
    "Hs = h2deg(np.linspace(-12, 12, 100))\n",
    "Hx = np.linspace(-12, 12, 100)\n",
    "UmVo = [UmVobs(h, m0V, m0U) for h in Hs]\n",
    "fig, (ax, ax2) = plt.subplots(2,1, figsize=(6,8))\n",
    "#ax.plot(Hx, X(Hs), label='X')\n",
    "ax.plot(Hx, UmVo, label='U-V')\n",
    "\n",
    "ax.axvline(-4, color='r', ls='--', lw=1.5)\n",
    "ax.axvline(0, color='k', ls='--', lw=1.5)\n",
    "ax.axvline(3, color='g', ls='--', lw=1.5)\n",
    "\n",
    "ax.set_xlim(-5,5)\n",
    "ax.set_ylim(-1.2,-0.6)\n",
    "ax.set_xlabel('$HA$')\n",
    "ax.set_ylabel('$(U-V)_{obs}$')\n",
    "\n",
    "toa = 3   # top of atmospere\n",
    "angle = -45\n",
    "ax2.axhline(0, color='k')\n",
    "ax2.axhline(toa, color='k', ls='--')\n",
    "plotX(ax2, -4, 2.5, c='r')\n",
    "plotX(ax2, 3, 2, c='g')\n",
    "ax2.arrow(0,0,0,toa, head_width=0., head_length=0, fc='k', ec='k', lw=1.5)\n",
    "ax2.text(-3.5, 2.3, '$HA=-4$')\n",
    "ax2.text(0, 3.2, '$HA=0$')\n",
    "ax2.text(2, 1.3, '$HA=3$')\n",
    "ax2.annotate('top of atmosphere', \n",
    "            xy=(-4, toa), xycoords='data',\n",
    "            xytext=(30, 30), textcoords='offset points',\n",
    "            arrowprops=dict(arrowstyle=\"->\",\n",
    "                            connectionstyle=\"arc3,rad=.2\")\n",
    "           )\n",
    "ax2.annotate('ground', \n",
    "            xy=(-4, 0), xycoords='data',\n",
    "            xytext=(25, -25), textcoords='offset points',\n",
    "            arrowprops=dict(arrowstyle=\"->\",\n",
    "                            connectionstyle=\"arc3,rad=-.2\")\n",
    "           )\n",
    "ax2.annotate('viewer', \n",
    "            xy=(0, 0), xycoords='data',\n",
    "            xytext=(25, -25), textcoords='offset points',\n",
    "            arrowprops=dict(arrowstyle=\"->\",\n",
    "                            connectionstyle=\"arc3,rad=-.2\")\n",
    "           )\n",
    "\n",
    "s = 0.15\n",
    "ax2.plot([-s,toa*np.tan(h2rad(-4))-s], [ -s, toa-s], 'k--', marker='o', ms=4)\n",
    "ax2.annotate('$X$', \n",
    "            xy=(-2.8, 1.4), xycoords='data',\n",
    "            xytext=(-25, -25), textcoords='offset points',\n",
    "            arrowprops=dict(arrowstyle=\"->\",\n",
    "                            connectionstyle=\"arc3,rad=.2\")\n",
    "           )\n",
    "ax2.set_ylim(-1,5)\n",
    "ax2.set_xlim(-6,4)\n",
    "ax2.set_aspect(1)\n",
    "ax2.set_xticks([])\n",
    "ax2.set_yticks([])\n",
    "\n",
    "fig.savefig('umv.pdf')"
   ]
  },
  {
   "cell_type": "markdown",
   "metadata": {},
   "source": [
    "## 2-C \n",
    "### 1)\n",
    "Load the first dataset:"
   ]
  },
  {
   "cell_type": "code",
   "execution_count": 6,
   "metadata": {
    "collapsed": false
   },
   "outputs": [],
   "source": [
    "BV = np.genfromtxt('../data/BV_photometry.dat')\n",
    "B = BV[:,0]\n",
    "V = BV[:,1]\n",
    "BmV = B-V"
   ]
  },
  {
   "cell_type": "markdown",
   "metadata": {},
   "source": [
    "### 2)\n",
    "Load the second dataset:"
   ]
  },
  {
   "cell_type": "code",
   "execution_count": 24,
   "metadata": {
    "collapsed": false
   },
   "outputs": [],
   "source": [
    "age = np.genfromtxt('../data/age_3.5gyr.dat')\n",
    "V2 = age[:, 1]\n",
    "B2 = age[:, 0]\n",
    "B2mV2 = B2 - V2"
   ]
  },
  {
   "cell_type": "markdown",
   "metadata": {},
   "source": [
    "Define mapping from apparent magnitude $m$ to absolute magnitude $M$ and vice versa, using the equation\n",
    "\n",
    "\\begin{align}\n",
    "    m - M &= 5\\operatorname{log}_{10}(d) - 5\n",
    "\\end{align}\n"
   ]
  },
  {
   "cell_type": "code",
   "execution_count": 25,
   "metadata": {
    "collapsed": true
   },
   "outputs": [],
   "source": [
    "def M(m, d=890):\n",
    "    return m - 5*np.log10(d) + 5\n",
    "\n",
    "def m(M, d=890):\n",
    "    return 5*np.log10(d) - 5 + M"
   ]
  },
  {
   "cell_type": "markdown",
   "metadata": {},
   "source": [
    "Correct the second dataset from absolute to apparent magnitudes and plot the corrected data:"
   ]
  },
  {
   "cell_type": "code",
   "execution_count": 26,
   "metadata": {
    "collapsed": false
   },
   "outputs": [
    {
     "data": {
      "image/png": "[encoded data removed]",
      "text/plain": [
       "<matplotlib.figure.Figure at 0x7f1a55cc6610>"
      ]
     },
     "metadata": {},
     "output_type": "display_data"
    }
   ],
   "source": [
    "mV2 = m(V2)\n",
    "mB2 = m(B2)\n",
    "B2mV2 = mB2 - mV2\n",
    "\n",
    "fig, ax = plt.subplots(1,1)\n",
    "ax.plot(B2mV2, mV2, \n",
    "        '.r', \n",
    "        label='isochrone')\n",
    "shiftBV = 0.35\n",
    "shiftV = 1.1\n",
    "ax.plot(B2mV2 + shiftBV, mV2 + shiftV, \n",
    "        '.', color=(0.8,0.8,0.8))\n",
    "ax.plot(B-V, V, '.k', label='Gal. open cluster')\n",
    "\n",
    "#x = 0.75\n",
    "#y = 22\n",
    "idx = 8\n",
    "x = B2mV2[idx]\n",
    "y = mV2[idx]\n",
    "\n",
    "X1 = np.array([x, x+shiftBV])\n",
    "Y1 = np.array([y, y])\n",
    "\n",
    "X2 = np.array([x+shiftBV, x+shiftBV])\n",
    "Y2 = np.array([y, y+shiftV])\n",
    "\n",
    "ax.plot(X1, Y1, 'k')\n",
    "ax.plot(X2, Y2, 'k')\n",
    "ax.text(x+0.02+shiftBV, y, '{0}'.format(shiftV))\n",
    "ax.text(x+0.07, y-1.5, '{0}'.format(shiftBV))\n",
    "ax.text(x+0.12, y+0.1, 'Shift')\n",
    "\n",
    "ax.set_xlabel('Color (B-V)')\n",
    "ax.set_ylabel('Magnitude (V)')\n",
    "ax.legend(loc=2)\n",
    "\n",
    "fig.savefig('../pic/CMD.pdf')"
   ]
  },
  {
   "cell_type": "markdown",
   "metadata": {},
   "source": [
    "The locus of the isochrone is shifted into the red with respect to the CMD. This is probably due to the age of the cluster as with age the light of the stars shifts to the red."
   ]
  },
  {
   "cell_type": "markdown",
   "metadata": {},
   "source": [
    "## 2-D\n",
    "\n",
    "Diameter $D = \\SI{6.57}{\\meter}$\n",
    "\n",
    "$N = 20$\n",
    "\n",
    "$l_{pixel} = \\SI{18}{\\micro\\meter}$\n",
    "\n",
    "$N = \\frac{f}{D} \\Leftrightarrow f = ND$\n",
    "\n",
    "Pixel scale in radian\n",
    "\\begin{align}\n",
    "    q &= \\frac{l_{pixel}}{f} \\\\\n",
    "    &= \\frac{l_{pixel}}{ND}\n",
    "\\end{align}\n",
    "\n",
    "Conversion to degrees:\n",
    "$q^\\prime = q * \\frac{\\ang{180}}{\\pi}$ "
   ]
  },
  {
   "cell_type": "code",
   "execution_count": 10,
   "metadata": {
    "collapsed": false
   },
   "outputs": [
    {
     "name": "stdout",
     "output_type": "stream",
     "text": [
      "7.8487369196e-06 degree\n",
      "0.0282554529106 arcsecond\n"
     ]
    }
   ],
   "source": [
    "from pint import UnitRegistry\n",
    "ureg = UnitRegistry()\n",
    "D = 6.57 * ureg.meter\n",
    "N = 20\n",
    "l = 18 * ureg.micrometer\n",
    "l = l.to(ureg.meter)\n",
    "\n",
    "q = l/(N*D)\n",
    "\n",
    "q *= 180/np.pi\n",
    "q_prime = q * ureg.degrees\n",
    "print q_prime\n",
    "print q_prime.to(ureg.arcsecond)"
   ]
  },
  {
   "cell_type": "code",
   "execution_count": 11,
   "metadata": {
    "collapsed": false
   },
   "outputs": [
    {
     "name": "stdout",
     "output_type": "stream",
     "text": [
      "0.0282554529106\n"
     ]
    }
   ],
   "source": [
    "qq =  q.m\n",
    "print qq * 60 * 60"
   ]
  },
  {
   "cell_type": "markdown",
   "metadata": {},
   "source": [
    "## 2-E"
   ]
  },
  {
   "cell_type": "code",
   "execution_count": 12,
   "metadata": {
    "collapsed": false
   },
   "outputs": [
    {
     "name": "stdout",
     "output_type": "stream",
     "text": [
      "1.2527861815e+18 meter\n",
      "70460597095.5 meter\n",
      "15.1840807927 meter\n",
      "30.4327746952 meter\n"
     ]
    }
   ],
   "source": [
    "l = 7000 * ureg.angstrom\n",
    "l = l.to(ureg.meter)\n",
    "dist = 40.6*ureg.parsec\n",
    "dist = dist.to(ureg.meter)\n",
    "\n",
    "da = 0.471 * ureg.au\n",
    "da = da.to(ureg.meter)\n",
    "dp = 0.235 * ureg.au\n",
    "dp = dp.to(ureg.meter)\n",
    "\n",
    "print dist\n",
    "print da\n",
    "\n",
    "print (1.22*l/np.arctan(da/dist)).to(ureg.meter)\n",
    "print (1.22*l/np.arctan(dp/dist)).to(ureg.meter)"
   ]
  },
  {
   "cell_type": "code",
   "execution_count": 28,
   "metadata": {
    "collapsed": false
   },
   "outputs": [
    {
     "name": "stdout",
     "output_type": "stream",
     "text": [
      "0.29002437971 dimensionless\n",
      "0.144704308348 dimensionless\n"
     ]
    }
   ],
   "source": [
    "lpp = 0.04 * ureg.arcsecond\n",
    "q = np.arctan(da/dist)\n",
    "q = q.to(ureg.arcsecond)\n",
    "s = np.arctan(dp/dist)\n",
    "s = s.to(ureg.arcsecond)\n",
    "print q/lpp\n",
    "print s/lpp"
   ]
  }
 ],
 "metadata": {
  "kernelspec": {
   "display_name": "Python 2",
   "language": "python",
   "name": "python2"
  },
  "language_info": {
   "codemirror_mode": {
    "name": "ipython",
    "version": 2
   },
   "file_extension": ".py",
   "mimetype": "text/x-python",
   "name": "python",
   "nbconvert_exporter": "python",
   "pygments_lexer": "ipython2",
   "version": "2.7.9"
  }
 },
 "nbformat": 4,
 "nbformat_minor": 0
}
