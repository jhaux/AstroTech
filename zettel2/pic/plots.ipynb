{
 "cells": [
  {
   "cell_type": "code",
   "execution_count": 1,
   "metadata": {
    "collapsed": false
   },
   "outputs": [
    {
     "name": "stderr",
     "output_type": "stream",
     "text": [
      "/home/jhaux/.local/lib/python2.7/site-packages/matplotlib/__init__.py:872: UserWarning: axes.color_cycle is deprecated and replaced with axes.prop_cycle; please use the latter.\n",
      "  warnings.warn(self.msg_depr % (key, alt_key))\n"
     ]
    }
   ],
   "source": [
    "import numpy as np\n",
    "import matplotlib.pyplot as plt\n",
    "import mplstyles\n",
    "%matplotlib inline"
   ]
  },
  {
   "cell_type": "markdown",
   "metadata": {},
   "source": [
    "## 2-B"
   ]
  },
  {
   "cell_type": "code",
   "execution_count": 1,
   "metadata": {
    "collapsed": true
   },
   "outputs": [],
   "source": [
    "def X(HA, Phi=31.0442, DEC=43+62/60+25./3600.):\n",
    "    return 1./ (np.cos(Phi)*np.cos(DEC)*np.cos(HA) + np.sin(Phi)*np.sin(DEC))\n",
    "\n",
    "MV = -5.21\n",
    "m0V = 5*np.log10(610) - 5 + "
   ]
  },
  {
   "cell_type": "code",
   "execution_count": null,
   "metadata": {
    "collapsed": true
   },
   "outputs": [],
   "source": []
  },
  {
   "cell_type": "markdown",
   "metadata": {},
   "source": [
    "## 2-C \n",
    "### 1)\n",
    "Load the first dataset:"
   ]
  },
  {
   "cell_type": "code",
   "execution_count": 48,
   "metadata": {
    "collapsed": false
   },
   "outputs": [],
   "source": [
    "BV = np.genfromtxt('../data/BV_photometry.dat')\n",
    "B = BV[:,0]\n",
    "V = BV[:,1]\n",
    "BmV = B-V"
   ]
  },
  {
   "cell_type": "markdown",
   "metadata": {},
   "source": [
    "### 2)\n",
    "Load the second dataset:"
   ]
  },
  {
   "cell_type": "code",
   "execution_count": 45,
   "metadata": {
    "collapsed": false
   },
   "outputs": [],
   "source": [
    "age = np.genfromtxt('../data/age_3.5gyr.dat')\n",
    "V2 = age[:, 0]\n",
    "B2 = age[:, 1]\n",
    "B2mV2 = B2 - V2"
   ]
  },
  {
   "cell_type": "markdown",
   "metadata": {},
   "source": [
    "Define mapping from apparent magnitude $m$ to absolute magnitude $M$ and vice versa, using the equation\n",
    "\n",
    "\\begin{align}\n",
    "    m - M &= 5\\operatorname{log}_{10}(d) - 5\n",
    "\\end{align}\n"
   ]
  },
  {
   "cell_type": "code",
   "execution_count": 49,
   "metadata": {
    "collapsed": true
   },
   "outputs": [],
   "source": [
    "def M(m, d=890):\n",
    "    return m - 5*np.log10(d) + 5\n",
    "\n",
    "def m(M, d=890):\n",
    "    return 5*np.log10(d) - 5 + M"
   ]
  },
  {
   "cell_type": "markdown",
   "metadata": {},
   "source": [
    "Correct the second dataset from absolute to apparent magnitudes and plot the corrected data:"
   ]
  },
  {
   "cell_type": "code",
   "execution_count": 151,
   "metadata": {
    "collapsed": false
   },
   "outputs": [
    {
     "data": {
      "image/png": "[encoded data removed]",
      "text/plain": [
       "<matplotlib.figure.Figure at 0x7f62aa4b9650>"
      ]
     },
     "metadata": {},
     "output_type": "display_data"
    }
   ],
   "source": [
    "mV2 = m(V2)\n",
    "mB2 = m(B2)\n",
    "B2mV2 = mB2 - mV2\n",
    "\n",
    "fig, ax = plt.subplots(1,1)\n",
    "ax.plot(B2mV2, mV2, \n",
    "        '.r', \n",
    "        label='isochrone')\n",
    "shiftBV = 0.35\n",
    "shiftV = 1.1\n",
    "ax.plot(B2mV2 + shiftBV, mV2 + shiftV, \n",
    "        '.', color=(0.8,0.8,0.8))\n",
    "ax.plot(B-V, V, '.k', label='Gal. open cluster')\n",
    "\n",
    "#x = 0.75\n",
    "#y = 22\n",
    "idx = 8\n",
    "x = B2mV2[idx]\n",
    "y = mV2[idx]\n",
    "\n",
    "X1 = np.array([x, x+shiftBV])\n",
    "Y1 = np.array([y, y])\n",
    "\n",
    "X2 = np.array([x+shiftBV, x+shiftBV])\n",
    "Y2 = np.array([y, y+shiftV])\n",
    "\n",
    "ax.plot(X1, Y1, 'k')\n",
    "ax.plot(X2, Y2, 'k')\n",
    "ax.text(x+0.02+shiftBV, y, '{0}'.format(shiftV))\n",
    "ax.text(x+0.07, y-1.5, '{0}'.format(shiftBV))\n",
    "ax.text(x+0.12, y+0.1, 'Shift')\n",
    "\n",
    "ax.set_xlabel('Color (B-V)')\n",
    "ax.set_ylabel('Magnitude (V)')\n",
    "ax.legend(loc=2)\n",
    "\n",
    "fig.savefig('../pic/CMD.pdf')"
   ]
  },
  {
   "cell_type": "markdown",
   "metadata": {},
   "source": [
    "The locus of the isochrone is shifted into the red with respect to the CMD. This is probably due to the age of the cluster as with age the light of the stars shifts to the red."
   ]
  }
 ],
 "metadata": {
  "kernelspec": {
   "display_name": "Python 2",
   "language": "python",
   "name": "python2"
  },
  "language_info": {
   "codemirror_mode": {
    "name": "ipython",
    "version": 2
   },
   "file_extension": ".py",
   "mimetype": "text/x-python",
   "name": "python",
   "nbconvert_exporter": "python",
   "pygments_lexer": "ipython2",
   "version": "2.7.9"
  }
 },
 "nbformat": 4,
 "nbformat_minor": 0
}
