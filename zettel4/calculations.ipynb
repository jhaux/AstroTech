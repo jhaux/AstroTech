{
 "cells": [
  {
   "cell_type": "code",
   "execution_count": 1,
   "metadata": {
    "collapsed": false
   },
   "outputs": [
    {
     "name": "stderr",
     "output_type": "stream",
     "text": [
      "/home/jhaux/.local/lib/python2.7/site-packages/matplotlib/__init__.py:872: UserWarning: axes.color_cycle is deprecated and replaced with axes.prop_cycle; please use the latter.\n",
      "  warnings.warn(self.msg_depr % (key, alt_key))\n"
     ]
    }
   ],
   "source": [
    "import numpy as np\n",
    "import matplotlib.pyplot as plt\n",
    "import mplstyles\n",
    "\n",
    "import pint\n",
    "ureg = pint.UnitRegistry()\n",
    "%matplotlib inline"
   ]
  },
  {
   "cell_type": "markdown",
   "metadata": {
    "collapsed": true
   },
   "source": [
    "### A"
   ]
  },
  {
   "cell_type": "code",
   "execution_count": 145,
   "metadata": {
    "collapsed": false
   },
   "outputs": [
    {
     "name": "stdout",
     "output_type": "stream",
     "text": [
      "g = 0.00111111111111 millimeter\n"
     ]
    }
   ],
   "source": [
    "i = 20 * ureg.deg\n",
    "G = 900 / ureg.mm\n",
    "g = 1/G\n",
    "m = 1\n",
    "l1 = 5100 * ureg.angstrom\n",
    "l2 = 8900 * ureg.angstrom\n",
    "print 'g =', g"
   ]
  },
  {
   "cell_type": "code",
   "execution_count": 146,
   "metadata": {
    "collapsed": true
   },
   "outputs": [],
   "source": [
    "def ang_diffract(lamda, i=i, m=m, g=g):\n",
    "    return np.arcsin( m*lamda / g  - np.sin(i.to(ureg.radian)) )\n",
    "\n",
    "def angular_dispersion(lamda, g=g, i=i, m=m):\n",
    "    j = ang_diffract(lamda, i, m, g)\n",
    "    #print 'j = ', j.to(ureg.degree)\n",
    "    return m / (g*np.cos(j.to(ureg.radian)))"
   ]
  },
  {
   "cell_type": "code",
   "execution_count": 147,
   "metadata": {
    "collapsed": false
   },
   "outputs": [
    {
     "name": "stdout",
     "output_type": "stream",
     "text": [
      "Angular dispersion at 5100 angstrom: 9.06221858686e-05 1 / angstrom\n",
      "Angular dispersion at 8900 angstrom: 0.0001013003962 1 / angstrom\n"
     ]
    },
    {
     "name": "stderr",
     "output_type": "stream",
     "text": [
      "/home/jhaux/.local/lib/python2.7/site-packages/ipykernel/__main__.py:2: RuntimeWarning: invalid value encountered in arcsin\n",
      "  from ipykernel import kernelapp as app\n"
     ]
    }
   ],
   "source": [
    "for lam in [l1, l2]:\n",
    "    ang = angular_dispersion(lam)\n",
    "    print 'Angular dispersion at {0}: {1}'.format(lam, ang.to(1/ureg.angstrom))"
   ]
  },
  {
   "cell_type": "code",
   "execution_count": 153,
   "metadata": {
    "collapsed": false
   },
   "outputs": [
    {
     "name": "stderr",
     "output_type": "stream",
     "text": [
      "/home/jhaux/.local/lib/python2.7/site-packages/ipykernel/__main__.py:2: RuntimeWarning: invalid value encountered in arcsin\n",
      "  from ipykernel import kernelapp as app\n"
     ]
    }
   ],
   "source": [
    "lamda = np.linspace(1000, 10000, num=1000) * ureg.angstrom\n",
    "ang = angular_dispersion(lamda).to(1/ureg.angstrom)"
   ]
  },
  {
   "cell_type": "code",
   "execution_count": 156,
   "metadata": {
    "collapsed": false
   },
   "outputs": [
    {
     "name": "stderr",
     "output_type": "stream",
     "text": [
      "/home/jhaux/.local/lib/python2.7/site-packages/ipykernel/__main__.py:2: RuntimeWarning: invalid value encountered in arcsin\n",
      "  from ipykernel import kernelapp as app\n"
     ]
    },
    {
     "data": {
      "image/png": "[encoded data removed]",
      "text/plain": [
       "<matplotlib.figure.Figure at 0x7eff8ef47e50>"
      ]
     },
     "metadata": {},
     "output_type": "display_data"
    }
   ],
   "source": [
    "fig, ax = plt.subplots(1,1)\n",
    "ax.plot(lamda, ang, '-k')\n",
    "ax.plot(l1, angular_dispersion(l1).to(1/ureg.angstrom), 'or')\n",
    "ax.plot(l2, angular_dispersion(l2).to(1/ureg.angstrom), 'ok')\n",
    "ax.axvline(l1.m, color='r')\n",
    "ax.axvline(l2.m, color='k')\n",
    "ax.axhline(angular_dispersion(l1).to(1/ureg.angstrom).m, color='r')\n",
    "ax.axhline(angular_dispersion(l2).to(1/ureg.angstrom).m, color='k')\n",
    "\n",
    "ax.set_xlabel('$\\\\lambda$ $[\\\\si{\\\\angstrom}]$')\n",
    "ax.set_ylabel('$\\\\frac{\\\\operatorname{d}j}{\\\\operatorname{d}\\\\lambda}$ $[\\\\si[per-mode=symbol]{\\\\degree\\\\per\\\\angstrom}]$')\n",
    "fig.savefig('./pic/ang.pdf')"
   ]
  },
  {
   "cell_type": "markdown",
   "metadata": {},
   "source": [
    "### B"
   ]
  },
  {
   "cell_type": "code",
   "execution_count": 98,
   "metadata": {
    "collapsed": true
   },
   "outputs": [],
   "source": [
    "G = 600 / ureg.mm\n",
    "g = 1/G\n",
    "l = 2 * ureg.cm\n",
    "lam = 6200 * ureg.angstrom"
   ]
  },
  {
   "cell_type": "code",
   "execution_count": 99,
   "metadata": {
    "collapsed": false
   },
   "outputs": [
    {
     "name": "stdout",
     "output_type": "stream",
     "text": [
      "2.68817204301\n"
     ]
    }
   ],
   "source": [
    "R = g / lam\n",
    "print R.to(ureg.dimensionless).m"
   ]
  },
  {
   "cell_type": "code",
   "execution_count": 100,
   "metadata": {
    "collapsed": true
   },
   "outputs": [],
   "source": [
    "i = 45 * ureg.degree\n",
    "m = 2"
   ]
  },
  {
   "cell_type": "code",
   "execution_count": 101,
   "metadata": {
    "collapsed": false
   },
   "outputs": [
    {
     "name": "stdout",
     "output_type": "stream",
     "text": [
      "lam =  5892.55650989 angstrom\n"
     ]
    }
   ],
   "source": [
    "lam = g*np.sin(i.to(ureg.radian))/m\n",
    "print 'lam = ', lam.to(ureg.angstrom)"
   ]
  },
  {
   "cell_type": "markdown",
   "metadata": {},
   "source": [
    "### C"
   ]
  },
  {
   "cell_type": "code",
   "execution_count": 105,
   "metadata": {
    "collapsed": true
   },
   "outputs": [],
   "source": [
    "R = 2300\n",
    "lam = 8000 * ureg.angstrom\n",
    "l = 1 * ureg.cm"
   ]
  },
  {
   "cell_type": "markdown",
   "metadata": {},
   "source": [
    "$R_{max} = \\frac{2l}{\\lambda}$"
   ]
  },
  {
   "cell_type": "code",
   "execution_count": 123,
   "metadata": {
    "collapsed": false
   },
   "outputs": [
    {
     "name": "stdout",
     "output_type": "stream",
     "text": [
      "0.54347826087 1 / millimeter\n"
     ]
    }
   ],
   "source": [
    "# R = m * N\n",
    "# R_{max} = 2l/lambda = 2 * N * d / lambda  <=> l = R/2 * lambda// g = grid spacing\n",
    "# Nd = l <=> d = l/N = R/2*lambda / N = R/2*lambda / (R/m) = lambda/(2m)\n",
    "# g = 1/d\n",
    "\n",
    "#R = 1.22*lam / D\n",
    "g = R * lam\n",
    "G = 1/g\n",
    "print G.to(1/ureg.mm)"
   ]
  },
  {
   "cell_type": "markdown",
   "metadata": {},
   "source": [
    "### E"
   ]
  },
  {
   "cell_type": "code",
   "execution_count": 2,
   "metadata": {
    "collapsed": false
   },
   "outputs": [],
   "source": [
    "from scipy.stats import norm"
   ]
  },
  {
   "cell_type": "code",
   "execution_count": 3,
   "metadata": {
    "collapsed": false
   },
   "outputs": [
    {
     "name": "stderr",
     "output_type": "stream",
     "text": [
      "/usr/local/lib/python2.7/dist-packages/numpy/core/numeric.py:190: VisibleDeprecationWarning: using a non-integer number instead of an integer will result in an error in the future\n",
      "  a = empty(shape, dtype, order)\n"
     ]
    }
   ],
   "source": [
    "C = 10.\n",
    "amplitude = np.array([20,10,8,4,8])\n",
    "location = np.array([0,5,-1,-4,-8])\n",
    "scale = np.array([2,1.5,0.5,0.5, 2.])\n",
    "\n",
    "RES = 300.\n",
    "Xs = np.linspace(-10, 10, RES)\n",
    "Y1 = C * np.ones(RES)\n",
    "Y1 -= 40 * norm(loc=location[0], scale=scale[0]).pdf(Xs)\n",
    "Y2  = C * np.ones(RES)\n",
    "\n",
    "for a,l,s in zip(amplitude, location, scale):\n",
    "    Y2 -= a * norm(loc=l, scale=s).pdf(Xs)"
   ]
  },
  {
   "cell_type": "code",
   "execution_count": 4,
   "metadata": {
    "collapsed": false
   },
   "outputs": [
    {
     "name": "stdout",
     "output_type": "stream",
     "text": [
      "39.866645738\n",
      "3.9866645738\n",
      "1.9933322869\n"
     ]
    },
    {
     "name": "stderr",
     "output_type": "stream",
     "text": [
      "/home/jhaux/.local/lib/python2.7/site-packages/ipykernel/__main__.py:8: VisibleDeprecationWarning: using a non-integer number instead of an integer will result in an error in the future\n"
     ]
    }
   ],
   "source": [
    "A = np.sum((C - Y1) * (20./RES))\n",
    "print A\n",
    "l = A / C\n",
    "print l\n",
    "L = l/2.\n",
    "print L\n",
    "\n",
    "YA = np.zeros(RES)\n",
    "YA[Xs>-L] = C\n",
    "YA[Xs>L] = 0"
   ]
  },
  {
   "cell_type": "code",
   "execution_count": 7,
   "metadata": {
    "collapsed": false
   },
   "outputs": [
    {
     "name": "stderr",
     "output_type": "stream",
     "text": [
      "/home/jhaux/.local/lib/python2.7/site-packages/ipykernel/__main__.py:5: VisibleDeprecationWarning: using a non-integer number instead of an integer will result in an error in the future\n"
     ]
    },
    {
     "data": {
      "image/png": "[encoded data removed]",
      "text/plain": [
       "<matplotlib.figure.Figure at 0x7f3eb9033390>"
      ]
     },
     "metadata": {},
     "output_type": "display_data"
    }
   ],
   "source": [
    "f, AX = plt.subplots(1,2, figsize=(12,5))\n",
    "\n",
    "(ax1, ax2) = AX\n",
    "ax1.fill_between(Xs, C*np.ones(RES), Y1, alpha = 0.2, color='k', edgecolor='None')\n",
    "ax1.fill_between(Xs, C*np.zeros(RES), YA, alpha = 0.4, color='k', edgecolor='None')\n",
    "ax1.plot(Xs, Y1, 'r-', lw=2)\n",
    "ax1.plot(Xs, C*np.ones(RES), 'k--', lw=2)\n",
    "\n",
    "ax1.axvline(-L)\n",
    "ax1.axvline(L)\n",
    "\n",
    "ax1.text(-L-0.4,-1, '$\\\\lambda_1$', fontsize=15)\n",
    "ax1.text( L-0.4,-1, '$\\\\lambda_2$', fontsize=15)\n",
    "ax1.text( -9.5,C+0.15, '$Continuum$', fontsize=15)\n",
    "\n",
    "ax2.plot(Xs, Y2, 'r', lw=2)\n",
    "\n",
    "for ax in AX:\n",
    "    ax.set_xticks([])\n",
    "    ax.set_yticks([])\n",
    "    ax.set_ylim(0,11)\n",
    "\n",
    "f.savefig('./pic/ew.pdf')"
   ]
  },
  {
   "cell_type": "code",
   "execution_count": null,
   "metadata": {
    "collapsed": true
   },
   "outputs": [],
   "source": []
  }
 ],
 "metadata": {
  "kernelspec": {
   "display_name": "Python 2",
   "language": "python",
   "name": "python2"
  },
  "language_info": {
   "codemirror_mode": {
    "name": "ipython",
    "version": 2
   },
   "file_extension": ".py",
   "mimetype": "text/x-python",
   "name": "python",
   "nbconvert_exporter": "python",
   "pygments_lexer": "ipython2",
   "version": "2.7.9"
  }
 },
 "nbformat": 4,
 "nbformat_minor": 0
}
