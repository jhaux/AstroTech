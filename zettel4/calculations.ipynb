{
 "cells": [
  {
   "cell_type": "code",
   "execution_count": 124,
   "metadata": {
    "collapsed": false
   },
   "outputs": [],
   "source": [
    "import numpy as np\n",
    "import matplotlib.pyplot as plt\n",
    "import mplstyles\n",
    "\n",
    "import pint\n",
    "ureg = pint.UnitRegistry()\n",
    "%matplotlib inline"
   ]
  },
  {
   "cell_type": "markdown",
   "metadata": {
    "collapsed": true
   },
   "source": [
    "### A"
   ]
  },
  {
   "cell_type": "code",
   "execution_count": 125,
   "metadata": {
    "collapsed": false
   },
   "outputs": [
    {
     "name": "stdout",
     "output_type": "stream",
     "text": [
      "g = 0.00111111111111 millimeter\n"
     ]
    }
   ],
   "source": [
    "i = 20 * ureg.deg\n",
    "G = 900 / ureg.mm\n",
    "g = 1/G\n",
    "m = 1\n",
    "l1 = 5100 * ureg.angstrom\n",
    "l2 = 8900 * ureg.angstrom\n",
    "print 'g =', g"
   ]
  },
  {
   "cell_type": "code",
   "execution_count": 128,
   "metadata": {
    "collapsed": true
   },
   "outputs": [],
   "source": [
    "def ang_diffract(lamda, i=i, m=m, g=g):\n",
    "    return np.arcsin( m*lamda / g  - np.sin(i.to(ureg.radian)) )\n",
    "\n",
    "def angular_dispersion(lamda, g=g, i=i, m=m):\n",
    "    j = ang_diffract(lamda, i, m, g)\n",
    "    return g*np.cos(j.to(ureg.radian)) / m"
   ]
  },
  {
   "cell_type": "code",
   "execution_count": 129,
   "metadata": {
    "collapsed": false
   },
   "outputs": [
    {
     "name": "stdout",
     "output_type": "stream",
     "text": [
      "Angular dispersion at 5100 angstrom: 11034.8254174 angstrom\n",
      "Angular dispersion at 8900 angstrom: 9871.62970252 angstrom\n"
     ]
    },
    {
     "name": "stderr",
     "output_type": "stream",
     "text": [
      "/home/jhaux/.local/lib/python2.7/site-packages/ipykernel/__main__.py:2: RuntimeWarning: invalid value encountered in arcsin\n",
      "  from ipykernel import kernelapp as app\n"
     ]
    }
   ],
   "source": [
    "for lam in [l1, l2]:\n",
    "    ang = angular_dispersion(lam)\n",
    "    print 'Angular dispersion at {0}: {1}'.format(lam, ang.to(ureg.angstrom))"
   ]
  },
  {
   "cell_type": "code",
   "execution_count": 130,
   "metadata": {
    "collapsed": false
   },
   "outputs": [
    {
     "name": "stderr",
     "output_type": "stream",
     "text": [
      "/home/jhaux/.local/lib/python2.7/site-packages/ipykernel/__main__.py:2: RuntimeWarning: invalid value encountered in arcsin\n",
      "  from ipykernel import kernelapp as app\n"
     ]
    }
   ],
   "source": [
    "lamda = np.linspace(4000, 9000, num=1000) * ureg.angstrom\n",
    "ang = angular_dispersion(lamda).to(ureg.angstrom)"
   ]
  },
  {
   "cell_type": "code",
   "execution_count": 131,
   "metadata": {
    "collapsed": false
   },
   "outputs": [
    {
     "name": "stderr",
     "output_type": "stream",
     "text": [
      "/home/jhaux/.local/lib/python2.7/site-packages/ipykernel/__main__.py:2: RuntimeWarning: invalid value encountered in arcsin\n",
      "  from ipykernel import kernelapp as app\n"
     ]
    },
    {
     "data": {
      "text/plain": [
       "<matplotlib.text.Text at 0x7eff903d5250>"
      ]
     },
     "execution_count": 131,
     "metadata": {},
     "output_type": "execute_result"
    },
    {
     "data": {
      "image/png": "[encoded data removed]",
      "text/plain": [
       "<matplotlib.figure.Figure at 0x7eff903b8ed0>"
      ]
     },
     "metadata": {},
     "output_type": "display_data"
    }
   ],
   "source": [
    "fig, ax = plt.subplots(1,1)\n",
    "ax.plot(lamda, ang, '-k')\n",
    "ax.plot(l1, angular_dispersion(l1).to(ureg.angstrom), 'or')\n",
    "ax.plot(l2, angular_dispersion(l2).to(ureg.angstrom), 'ok')\n",
    "ax.axvline(l1.m, color='r')\n",
    "ax.axvline(l2.m, color='k')\n",
    "ax.axhline(angular_dispersion(l1).to(ureg.angstrom).m, color='r')\n",
    "ax.axhline(angular_dispersion(l2).to(ureg.angstrom).m, color='k')\n",
    "\n",
    "ax.set_xlabel('$\\\\lambda$ $[\\\\si{\\\\angstrom}]$')\n",
    "ax.set_ylabel('$\\\\frac{\\\\operatorname{d}\\\\lambda}{\\\\operatorname{d}j}$ $[\\\\si{\\\\angstrom\\\\per\\\\degree}]$')"
   ]
  },
  {
   "cell_type": "markdown",
   "metadata": {},
   "source": [
    "### B"
   ]
  },
  {
   "cell_type": "code",
   "execution_count": 98,
   "metadata": {
    "collapsed": true
   },
   "outputs": [],
   "source": [
    "G = 600 / ureg.mm\n",
    "g = 1/G\n",
    "l = 2 * ureg.cm\n",
    "lam = 6200 * ureg.angstrom"
   ]
  },
  {
   "cell_type": "code",
   "execution_count": 99,
   "metadata": {
    "collapsed": false
   },
   "outputs": [
    {
     "name": "stdout",
     "output_type": "stream",
     "text": [
      "2.68817204301\n"
     ]
    }
   ],
   "source": [
    "R = g / lam\n",
    "print R.to(ureg.dimensionless).m"
   ]
  },
  {
   "cell_type": "code",
   "execution_count": 100,
   "metadata": {
    "collapsed": true
   },
   "outputs": [],
   "source": [
    "i = 45 * ureg.degree\n",
    "m = 2"
   ]
  },
  {
   "cell_type": "code",
   "execution_count": 101,
   "metadata": {
    "collapsed": false
   },
   "outputs": [
    {
     "name": "stdout",
     "output_type": "stream",
     "text": [
      "lam =  5892.55650989 angstrom\n"
     ]
    }
   ],
   "source": [
    "lam = g*np.sin(i.to(ureg.radian))/m\n",
    "print 'lam = ', lam.to(ureg.angstrom)"
   ]
  },
  {
   "cell_type": "markdown",
   "metadata": {},
   "source": [
    "### C"
   ]
  },
  {
   "cell_type": "code",
   "execution_count": 105,
   "metadata": {
    "collapsed": true
   },
   "outputs": [],
   "source": [
    "R = 2300\n",
    "lam = 8000 * ureg.angstrom\n",
    "l = 1 * ureg.cm"
   ]
  },
  {
   "cell_type": "markdown",
   "metadata": {},
   "source": [
    "$R_{max} = \\frac{2l}{\\lambda}$"
   ]
  },
  {
   "cell_type": "code",
   "execution_count": 123,
   "metadata": {
    "collapsed": false
   },
   "outputs": [
    {
     "name": "stdout",
     "output_type": "stream",
     "text": [
      "0.54347826087 1 / millimeter\n"
     ]
    }
   ],
   "source": [
    "# R = m * N\n",
    "# R_{max} = 2l/lambda = 2 * N * d / lambda  <=> l = R/2 * lambda// g = grid spacing\n",
    "# Nd = l <=> d = l/N = R/2*lambda / N = R/2*lambda / (R/m) = lambda/(2m)\n",
    "# g = 1/d\n",
    "\n",
    "#R = 1.22*lam / D\n",
    "g = R * lam\n",
    "G = 1/g\n",
    "print G.to(1/ureg.mm)"
   ]
  },
  {
   "cell_type": "code",
   "execution_count": null,
   "metadata": {
    "collapsed": true
   },
   "outputs": [],
   "source": []
  }
 ],
 "metadata": {
  "kernelspec": {
   "display_name": "Python 2",
   "language": "python",
   "name": "python2"
  },
  "language_info": {
   "codemirror_mode": {
    "name": "ipython",
    "version": 2
   },
   "file_extension": ".py",
   "mimetype": "text/x-python",
   "name": "python",
   "nbconvert_exporter": "python",
   "pygments_lexer": "ipython2",
   "version": "2.7.9"
  }
 },
 "nbformat": 4,
 "nbformat_minor": 0
}
